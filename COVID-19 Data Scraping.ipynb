{
 "cells": [
  {
   "cell_type": "markdown",
   "metadata": {},
   "source": [
    "#                 COVID-19 Live Data Scraping From Worldometer.info"
   ]
  },
  {
   "cell_type": "markdown",
   "metadata": {},
   "source": [
    "<p>Despite incredible efforts by scientists around the world, there is still much we do not understand, and we are all now part of a planet-wide experiment trying to find answers.\n",
    "Here are some of the big outstanding questions.\n",
    "It is one of the most basic questions, but also one of the most crucial.\n",
    "\n",
    "There have been hundreds of thousands of confirmed cases around the world, but this is only a fraction of the total number of infections. And the figures are further confused by an unknown number of asymptomatic cases - people who have the virus but don't feel ill.\n",
    "\n",
    "Developing an antibody test will allow researchers to see whether anyone has had the virus. Only then will we understand how far or how easily the coronavirus is spreading.\n",
    "\n",
    "In this Notebook I am scraping the coronavirus spreading data from worldometer.info </p>"
   ]
  },
  {
   "cell_type": "markdown",
   "metadata": {},
   "source": [
    "### Install all the required Library\n",
    "<li>BeautifulSoup</li>\n",
    "<li>Pandas</li>\n",
    "<li>Numpy</li>\n",
    "<li>Matplotlib</li>"
   ]
  },
  {
   "cell_type": "markdown",
   "metadata": {},
   "source": [
    "### Importing All the Library"
   ]
  },
  {
   "cell_type": "code",
   "execution_count": 1,
   "metadata": {},
   "outputs": [
    {
     "name": "stdout",
     "output_type": "stream",
     "text": [
      "All the Library has been Installed\n"
     ]
    }
   ],
   "source": [
    "import requests\n",
    "from bs4 import BeautifulSoup\n",
    "import pandas as pd\n",
    "import numpy as np\n",
    "import matplotlib.pyplot as plt\n",
    "print(\"All the Library has been Installed\")"
   ]
  },
  {
   "cell_type": "code",
   "execution_count": 2,
   "metadata": {},
   "outputs": [],
   "source": [
    "my_url = \"https://www.worldometers.info/coronavirus/\"\n",
    "html = requests.get(my_url)"
   ]
  },
  {
   "cell_type": "code",
   "execution_count": 3,
   "metadata": {},
   "outputs": [],
   "source": [
    "soup = BeautifulSoup(html.content, \"html5lib\")\n",
    "soup_for_last_update_time = BeautifulSoup(html.content, \"html5lib\")"
   ]
  },
  {
   "cell_type": "code",
   "execution_count": 4,
   "metadata": {},
   "outputs": [],
   "source": [
    "for_time = soup_for_last_update_time.findAll(\"div\",{\"class\":\"content-inner\"})\n",
    "last_updated_time = for_time[0].findAll('div')[1].text\n",
    "table = soup.tbody.findAll(\"tr\")"
   ]
  },
  {
   "cell_type": "code",
   "execution_count": 5,
   "metadata": {},
   "outputs": [],
   "source": [
    "single_contry_info = []\n",
    "for row in table:\n",
    "    country_data_list = []\n",
    "    country_info = row.findAll(\"td\")\n",
    "    for value in country_info:\n",
    "        country_data = value.text.strip().replace(\",\",\"\")\n",
    "        if (country_data ==''):\n",
    "            country_data  = 0\n",
    "        country_data_list.append(country_data)\n",
    "    country_data_list\n",
    "    single_contry_info.append(country_data_list)\n",
    "header = [\"country\", \"total_cases\", \"new_cases\", \"total_deaths\", \"new_deaths\", \"total_recovered\", \"active_cases\",\n",
    "          \"serious_condition\",\"total_cases_per1mpop\", \"total_death_per1mpop\",\"1st_case\" ]\n",
    "df = pd.DataFrame(np.array(single_contry_info), columns = header)"
   ]
  },
  {
   "cell_type": "markdown",
   "metadata": {},
   "source": [
    "### Adding a death Rate columns\n",
    "<p>Death Rate(%) = (Total Death/Total Infected Cases)*100</p>"
   ]
  },
  {
   "cell_type": "code",
   "execution_count": 6,
   "metadata": {},
   "outputs": [],
   "source": [
    "cols = df.columns.drop([\"country\",\"1st_case\"])\n",
    "df[cols] = df[cols].apply(pd.to_numeric)\n",
    "df[\"death_rate\"]=df['total_deaths']/df['total_cases']*100"
   ]
  },
  {
   "cell_type": "code",
   "execution_count": 7,
   "metadata": {},
   "outputs": [],
   "source": [
    "global_coronavirus_cases = df.total_cases.sum()\n",
    "global_active_cases = df.active_cases.sum()\n",
    "global_total_death = df.total_deaths.sum()\n",
    "global_recovered = df.total_recovered.sum()\n",
    "global_data_for_pi = [global_active_cases, global_recovered, global_total_death]\n",
    "global_label_for_pi = ['Active Cases', \"Total Recovered\", \"Total Death\"]"
   ]
  },
  {
   "cell_type": "code",
   "execution_count": 8,
   "metadata": {},
   "outputs": [],
   "source": [
    "global_data_sum = df.sum().drop([\"country\",\"death_rate\",\"1st_case\"])\n",
    "global_data = pd.DataFrame(global_data_sum).transpose()\n",
    "global_data.insert(loc=0, column = 'country', value = 'Global')\n",
    "global_data.insert(loc=10, column = '1st_case', value = 'None')\n",
    "global_data.insert(loc=11, column = 'death_rate', value = (global_data['total_deaths'][0]/global_data['total_cases'][0]*100))"
   ]
  },
  {
   "cell_type": "markdown",
   "metadata": {},
   "source": [
    "### Creating a dataframe for top 10 country infected coronavirus "
   ]
  },
  {
   "cell_type": "code",
   "execution_count": 9,
   "metadata": {},
   "outputs": [
    {
     "data": {
      "text/html": [
       "<div>\n",
       "<style scoped>\n",
       "    .dataframe tbody tr th:only-of-type {\n",
       "        vertical-align: middle;\n",
       "    }\n",
       "\n",
       "    .dataframe tbody tr th {\n",
       "        vertical-align: top;\n",
       "    }\n",
       "\n",
       "    .dataframe thead th {\n",
       "        text-align: right;\n",
       "    }\n",
       "</style>\n",
       "<table border=\"1\" class=\"dataframe\">\n",
       "  <thead>\n",
       "    <tr style=\"text-align: right;\">\n",
       "      <th></th>\n",
       "      <th>country</th>\n",
       "      <th>total_cases</th>\n",
       "      <th>new_cases</th>\n",
       "      <th>total_deaths</th>\n",
       "      <th>new_deaths</th>\n",
       "      <th>total_recovered</th>\n",
       "      <th>active_cases</th>\n",
       "      <th>serious_condition</th>\n",
       "      <th>total_cases_per1mpop</th>\n",
       "      <th>total_death_per1mpop</th>\n",
       "      <th>1st_case</th>\n",
       "      <th>death_rate</th>\n",
       "    </tr>\n",
       "  </thead>\n",
       "  <tbody>\n",
       "    <tr>\n",
       "      <td>0</td>\n",
       "      <td>USA</td>\n",
       "      <td>142793</td>\n",
       "      <td>333</td>\n",
       "      <td>2490</td>\n",
       "      <td>6</td>\n",
       "      <td>4562</td>\n",
       "      <td>135741</td>\n",
       "      <td>2970</td>\n",
       "      <td>431.0</td>\n",
       "      <td>8.0</td>\n",
       "      <td>Jan 20</td>\n",
       "      <td>1.743783</td>\n",
       "    </tr>\n",
       "    <tr>\n",
       "      <td>1</td>\n",
       "      <td>Italy</td>\n",
       "      <td>97689</td>\n",
       "      <td>0</td>\n",
       "      <td>10779</td>\n",
       "      <td>0</td>\n",
       "      <td>13030</td>\n",
       "      <td>73880</td>\n",
       "      <td>3906</td>\n",
       "      <td>1616.0</td>\n",
       "      <td>178.0</td>\n",
       "      <td>Jan 29</td>\n",
       "      <td>11.033996</td>\n",
       "    </tr>\n",
       "    <tr>\n",
       "      <td>2</td>\n",
       "      <td>Spain</td>\n",
       "      <td>85195</td>\n",
       "      <td>5085</td>\n",
       "      <td>7340</td>\n",
       "      <td>537</td>\n",
       "      <td>16780</td>\n",
       "      <td>61075</td>\n",
       "      <td>5231</td>\n",
       "      <td>1822.0</td>\n",
       "      <td>157.0</td>\n",
       "      <td>Jan 30</td>\n",
       "      <td>8.615529</td>\n",
       "    </tr>\n",
       "    <tr>\n",
       "      <td>200</td>\n",
       "      <td>China</td>\n",
       "      <td>81470</td>\n",
       "      <td>31</td>\n",
       "      <td>3304</td>\n",
       "      <td>4</td>\n",
       "      <td>75700</td>\n",
       "      <td>2466</td>\n",
       "      <td>633</td>\n",
       "      <td>57.0</td>\n",
       "      <td>2.0</td>\n",
       "      <td>Jan 10</td>\n",
       "      <td>4.055481</td>\n",
       "    </tr>\n",
       "    <tr>\n",
       "      <td>3</td>\n",
       "      <td>Germany</td>\n",
       "      <td>63929</td>\n",
       "      <td>1494</td>\n",
       "      <td>560</td>\n",
       "      <td>19</td>\n",
       "      <td>9211</td>\n",
       "      <td>54158</td>\n",
       "      <td>1979</td>\n",
       "      <td>763.0</td>\n",
       "      <td>7.0</td>\n",
       "      <td>Jan 26</td>\n",
       "      <td>0.875972</td>\n",
       "    </tr>\n",
       "    <tr>\n",
       "      <td>4</td>\n",
       "      <td>Iran</td>\n",
       "      <td>41495</td>\n",
       "      <td>3186</td>\n",
       "      <td>2757</td>\n",
       "      <td>117</td>\n",
       "      <td>13911</td>\n",
       "      <td>24827</td>\n",
       "      <td>3511</td>\n",
       "      <td>494.0</td>\n",
       "      <td>33.0</td>\n",
       "      <td>Feb 18</td>\n",
       "      <td>6.644174</td>\n",
       "    </tr>\n",
       "    <tr>\n",
       "      <td>5</td>\n",
       "      <td>France</td>\n",
       "      <td>40174</td>\n",
       "      <td>0</td>\n",
       "      <td>2606</td>\n",
       "      <td>0</td>\n",
       "      <td>7202</td>\n",
       "      <td>30366</td>\n",
       "      <td>4632</td>\n",
       "      <td>615.0</td>\n",
       "      <td>40.0</td>\n",
       "      <td>Jan 23</td>\n",
       "      <td>6.486782</td>\n",
       "    </tr>\n",
       "    <tr>\n",
       "      <td>6</td>\n",
       "      <td>UK</td>\n",
       "      <td>19522</td>\n",
       "      <td>0</td>\n",
       "      <td>1228</td>\n",
       "      <td>0</td>\n",
       "      <td>135</td>\n",
       "      <td>18159</td>\n",
       "      <td>163</td>\n",
       "      <td>288.0</td>\n",
       "      <td>18.0</td>\n",
       "      <td>Jan 30</td>\n",
       "      <td>6.290339</td>\n",
       "    </tr>\n",
       "    <tr>\n",
       "      <td>7</td>\n",
       "      <td>Switzerland</td>\n",
       "      <td>15526</td>\n",
       "      <td>697</td>\n",
       "      <td>333</td>\n",
       "      <td>33</td>\n",
       "      <td>1823</td>\n",
       "      <td>13370</td>\n",
       "      <td>301</td>\n",
       "      <td>1794.0</td>\n",
       "      <td>38.0</td>\n",
       "      <td>Feb 24</td>\n",
       "      <td>2.144789</td>\n",
       "    </tr>\n",
       "    <tr>\n",
       "      <td>8</td>\n",
       "      <td>Belgium</td>\n",
       "      <td>11899</td>\n",
       "      <td>1063</td>\n",
       "      <td>513</td>\n",
       "      <td>82</td>\n",
       "      <td>1527</td>\n",
       "      <td>9859</td>\n",
       "      <td>927</td>\n",
       "      <td>1027.0</td>\n",
       "      <td>44.0</td>\n",
       "      <td>Feb 03</td>\n",
       "      <td>4.311287</td>\n",
       "    </tr>\n",
       "  </tbody>\n",
       "</table>\n",
       "</div>"
      ],
      "text/plain": [
       "         country  total_cases  new_cases  total_deaths  new_deaths  \\\n",
       "0            USA       142793        333          2490           6   \n",
       "1          Italy        97689          0         10779           0   \n",
       "2          Spain        85195       5085          7340         537   \n",
       "200        China        81470         31          3304           4   \n",
       "3        Germany        63929       1494           560          19   \n",
       "4           Iran        41495       3186          2757         117   \n",
       "5         France        40174          0          2606           0   \n",
       "6             UK        19522          0          1228           0   \n",
       "7    Switzerland        15526        697           333          33   \n",
       "8        Belgium        11899       1063           513          82   \n",
       "\n",
       "     total_recovered  active_cases  serious_condition  total_cases_per1mpop  \\\n",
       "0               4562        135741               2970                 431.0   \n",
       "1              13030         73880               3906                1616.0   \n",
       "2              16780         61075               5231                1822.0   \n",
       "200            75700          2466                633                  57.0   \n",
       "3               9211         54158               1979                 763.0   \n",
       "4              13911         24827               3511                 494.0   \n",
       "5               7202         30366               4632                 615.0   \n",
       "6                135         18159                163                 288.0   \n",
       "7               1823         13370                301                1794.0   \n",
       "8               1527          9859                927                1027.0   \n",
       "\n",
       "     total_death_per1mpop 1st_case  death_rate  \n",
       "0                     8.0   Jan 20    1.743783  \n",
       "1                   178.0   Jan 29   11.033996  \n",
       "2                   157.0   Jan 30    8.615529  \n",
       "200                   2.0   Jan 10    4.055481  \n",
       "3                     7.0   Jan 26    0.875972  \n",
       "4                    33.0   Feb 18    6.644174  \n",
       "5                    40.0   Jan 23    6.486782  \n",
       "6                    18.0   Jan 30    6.290339  \n",
       "7                    38.0   Feb 24    2.144789  \n",
       "8                    44.0   Feb 03    4.311287  "
      ]
     },
     "execution_count": 9,
     "metadata": {},
     "output_type": "execute_result"
    }
   ],
   "source": [
    "df_sorted = df.sort_values(by = 'total_cases', ascending = False)\n",
    "df_top_10_country = df_sorted.head(10)\n",
    "df_top_10_country"
   ]
  },
  {
   "cell_type": "markdown",
   "metadata": {},
   "source": [
    "### Creating a dataframe for top 20 country by death rate"
   ]
  },
  {
   "cell_type": "code",
   "execution_count": 10,
   "metadata": {},
   "outputs": [],
   "source": [
    "df_top20_as_per_death_rate = df.sort_values(by ='death_rate', ascending=False).head(20)"
   ]
  },
  {
   "cell_type": "markdown",
   "metadata": {},
   "source": [
    "### Creating a dataframe for top 10 country by new cases"
   ]
  },
  {
   "cell_type": "code",
   "execution_count": 11,
   "metadata": {},
   "outputs": [],
   "source": [
    "df_new_sort_by_new_cases = df.sort_values(by = 'new_cases', ascending = False)\n",
    "df_new_case_in_top10_country = df_new_sort_by_new_cases.head(10)"
   ]
  },
  {
   "cell_type": "markdown",
   "metadata": {},
   "source": [
    "### Pie Chrat of Global Data of Active Cases, Recovered, Death"
   ]
  },
  {
   "cell_type": "code",
   "execution_count": 12,
   "metadata": {},
   "outputs": [
    {
     "data": {
      "image/png": "[encoded data removed]",
      "text/plain": [
       "<Figure size 720x504 with 1 Axes>"
      ]
     },
     "metadata": {},
     "output_type": "display_data"
    },
    {
     "data": {
      "text/html": [
       "<div>\n",
       "<style scoped>\n",
       "    .dataframe tbody tr th:only-of-type {\n",
       "        vertical-align: middle;\n",
       "    }\n",
       "\n",
       "    .dataframe tbody tr th {\n",
       "        vertical-align: top;\n",
       "    }\n",
       "\n",
       "    .dataframe thead th {\n",
       "        text-align: right;\n",
       "    }\n",
       "</style>\n",
       "<table border=\"1\" class=\"dataframe\">\n",
       "  <thead>\n",
       "    <tr style=\"text-align: right;\">\n",
       "      <th></th>\n",
       "      <th>0</th>\n",
       "    </tr>\n",
       "  </thead>\n",
       "  <tbody>\n",
       "    <tr>\n",
       "      <td>country</td>\n",
       "      <td>Global</td>\n",
       "    </tr>\n",
       "    <tr>\n",
       "      <td>total_cases</td>\n",
       "      <td>740239</td>\n",
       "    </tr>\n",
       "    <tr>\n",
       "      <td>new_cases</td>\n",
       "      <td>17880</td>\n",
       "    </tr>\n",
       "    <tr>\n",
       "      <td>total_deaths</td>\n",
       "      <td>35035</td>\n",
       "    </tr>\n",
       "    <tr>\n",
       "      <td>new_deaths</td>\n",
       "      <td>1069</td>\n",
       "    </tr>\n",
       "    <tr>\n",
       "      <td>total_recovered</td>\n",
       "      <td>156588</td>\n",
       "    </tr>\n",
       "    <tr>\n",
       "      <td>active_cases</td>\n",
       "      <td>548616</td>\n",
       "    </tr>\n",
       "    <tr>\n",
       "      <td>serious_condition</td>\n",
       "      <td>28471</td>\n",
       "    </tr>\n",
       "    <tr>\n",
       "      <td>total_cases_per1mpop</td>\n",
       "      <td>61337.3</td>\n",
       "    </tr>\n",
       "    <tr>\n",
       "      <td>total_death_per1mpop</td>\n",
       "      <td>1693.98</td>\n",
       "    </tr>\n",
       "    <tr>\n",
       "      <td>1st_case</td>\n",
       "      <td>None</td>\n",
       "    </tr>\n",
       "    <tr>\n",
       "      <td>death_rate</td>\n",
       "      <td>4.73293</td>\n",
       "    </tr>\n",
       "  </tbody>\n",
       "</table>\n",
       "</div>"
      ],
      "text/plain": [
       "                            0\n",
       "country                Global\n",
       "total_cases            740239\n",
       "new_cases               17880\n",
       "total_deaths            35035\n",
       "new_deaths               1069\n",
       "total_recovered        156588\n",
       "active_cases           548616\n",
       "serious_condition       28471\n",
       "total_cases_per1mpop  61337.3\n",
       "total_death_per1mpop  1693.98\n",
       "1st_case                 None\n",
       "death_rate            4.73293"
      ]
     },
     "execution_count": 12,
     "metadata": {},
     "output_type": "execute_result"
    }
   ],
   "source": [
    "fig1, ax1 = plt.subplots(figsize=(10, 7), subplot_kw=dict(aspect=\"equal\"))\n",
    "wedges, texts,  autotexts = ax1.pie(global_data_for_pi, autopct='%1.2f%%', textprops=dict(color=\"w\"))\n",
    "ax1.legend(wedges, global_label_for_pi,\n",
    "          loc=\"upper left\",\n",
    "          bbox_to_anchor=(1, 0, 0.5, 1))\n",
    "ax1.set_title('Pie Chart of Global Data of Active Cases, Recovered, Death')\n",
    "plt.show()\n",
    "global_data.transpose()"
   ]
  },
  {
   "cell_type": "markdown",
   "metadata": {},
   "source": [
    "### Bar Chart of Active Cases, Recovered, Death of top 10 country"
   ]
  },
  {
   "cell_type": "code",
   "execution_count": 13,
   "metadata": {},
   "outputs": [
    {
     "data": {
      "image/png": "[encoded data removed]",
      "text/plain": [
       "<Figure size 864x576 with 1 Axes>"
      ]
     },
     "metadata": {
      "needs_background": "light"
     },
     "output_type": "display_data"
    }
   ],
   "source": [
    "x1 = np.arange(len((df_top_10_country['country'])))  # the label locations\n",
    "width = 0.3  # the width of the bars\n",
    "fig2, ax2 = plt.subplots(figsize=(12,8))\n",
    "ax2.set_facecolor('#b2bec3')\n",
    "rects1 = ax2.bar(x1 - width- width/2, df_top_10_country['active_cases'], width, facecolor = 'Black', label='Active Cases')\n",
    "rects2 = ax2.bar(x1 - width/2 ,df_top_10_country['total_recovered'], width, facecolor = 'gray', label='Recovered')\n",
    "rects3 = ax2.bar(x1 + width/2,df_top_10_country['total_deaths'], width, facecolor = 'blue', label='Death')\n",
    "ax2.set_ylabel('Number of People')\n",
    "ax2.set_title('Bar Chart of Active Cases, Recovered, Death of top 10 country')\n",
    "ax2.set_xticks(x1)\n",
    "ax2.set_xticklabels(df_top_10_country['country'], rotation = 45)\n",
    "ax2.legend()\n",
    "def autolabel_1(rects):\n",
    "    \"\"\"Attach a text label above each bar in *rects*, displaying its height.\"\"\"\n",
    "    for rect in rects:\n",
    "        height = rect.get_height()\n",
    "        ax2.annotate('{}'.format(height),\n",
    "                    xy=(rect.get_x() + rect.get_width() / 2, 0),\n",
    "                    xytext=(2, 3),\n",
    "                    textcoords=\"offset points\",\n",
    "                    rotation = 90,\n",
    "                    color = '#EAB543',\n",
    "                    ha='center', va='bottom')\n",
    "autolabel_1(rects1)\n",
    "autolabel_1(rects2)\n",
    "autolabel_1(rects3)\n",
    "fig2.tight_layout()"
   ]
  },
  {
   "cell_type": "markdown",
   "metadata": {},
   "source": [
    "### Bar Chart of Top 20 country by Death rate(%)"
   ]
  },
  {
   "cell_type": "code",
   "execution_count": 14,
   "metadata": {},
   "outputs": [
    {
     "data": {
      "image/png": "[encoded data removed]",
      "text/plain": [
       "<Figure size 864x576 with 1 Axes>"
      ]
     },
     "metadata": {
      "needs_background": "light"
     },
     "output_type": "display_data"
    }
   ],
   "source": [
    "x2 = np.arange(len((df_top20_as_per_death_rate['country'])))  # the label locations\n",
    "width = .7  # the width of the bars\n",
    "fig3, ax3 = plt.subplots(figsize=(12,8))\n",
    "ax3.set_facecolor('#b2bec3')\n",
    "rects4 = ax3.bar(x2, df_top20_as_per_death_rate['death_rate'], width, facecolor = 'Black', label='Death Rate')\n",
    "ax3.set_ylabel('Death Rate (%)')\n",
    "ax3.set_title('Bar Chart of Top 20 country by Death rate(%)')\n",
    "ax3.set_xticks(x2)\n",
    "ax3.set_xticklabels(df_top20_as_per_death_rate['country'], rotation = 45)\n",
    "ax3.legend()\n",
    "def autolabel_2(rects):\n",
    "    \"\"\"Attach a text label above each bar in *rects*, displaying its height.\"\"\"\n",
    "    for rect in rects:\n",
    "        height = rect.get_height()\n",
    "        ax3.annotate('{0:.2f}'.format(height),\n",
    "                    xy=(rect.get_x() + rect.get_width() / 2, 0),\n",
    "                    xytext=(2, 3),  # 3 points vertical offset\n",
    "                    textcoords=\"offset points\",\n",
    "                    rotation = 90,\n",
    "                    color = '#EAB543',\n",
    "                    ha='center', va='bottom')\n",
    "autolabel_2(rects4)\n",
    "fig3.tight_layout()"
   ]
  },
  {
   "cell_type": "markdown",
   "metadata": {},
   "source": [
    "### Bar Chart of New Cases, New Death by top 10 ountry"
   ]
  },
  {
   "cell_type": "code",
   "execution_count": 15,
   "metadata": {},
   "outputs": [
    {
     "data": {
      "text/html": [
       "<div>\n",
       "<style scoped>\n",
       "    .dataframe tbody tr th:only-of-type {\n",
       "        vertical-align: middle;\n",
       "    }\n",
       "\n",
       "    .dataframe tbody tr th {\n",
       "        vertical-align: top;\n",
       "    }\n",
       "\n",
       "    .dataframe thead th {\n",
       "        text-align: right;\n",
       "    }\n",
       "</style>\n",
       "<table border=\"1\" class=\"dataframe\">\n",
       "  <thead>\n",
       "    <tr style=\"text-align: right;\">\n",
       "      <th></th>\n",
       "      <th>2</th>\n",
       "      <th>4</th>\n",
       "      <th>3</th>\n",
       "      <th>8</th>\n",
       "      <th>9</th>\n",
       "      <th>7</th>\n",
       "      <th>11</th>\n",
       "      <th>13</th>\n",
       "      <th>0</th>\n",
       "      <th>19</th>\n",
       "    </tr>\n",
       "  </thead>\n",
       "  <tbody>\n",
       "    <tr>\n",
       "      <td>country</td>\n",
       "      <td>Spain</td>\n",
       "      <td>Iran</td>\n",
       "      <td>Germany</td>\n",
       "      <td>Belgium</td>\n",
       "      <td>Netherlands</td>\n",
       "      <td>Switzerland</td>\n",
       "      <td>Austria</td>\n",
       "      <td>Portugal</td>\n",
       "      <td>USA</td>\n",
       "      <td>Sweden</td>\n",
       "    </tr>\n",
       "    <tr>\n",
       "      <td>new_cases</td>\n",
       "      <td>5085</td>\n",
       "      <td>3186</td>\n",
       "      <td>1494</td>\n",
       "      <td>1063</td>\n",
       "      <td>884</td>\n",
       "      <td>697</td>\n",
       "      <td>589</td>\n",
       "      <td>446</td>\n",
       "      <td>333</td>\n",
       "      <td>328</td>\n",
       "    </tr>\n",
       "    <tr>\n",
       "      <td>new_deaths</td>\n",
       "      <td>537</td>\n",
       "      <td>117</td>\n",
       "      <td>19</td>\n",
       "      <td>82</td>\n",
       "      <td>93</td>\n",
       "      <td>33</td>\n",
       "      <td>22</td>\n",
       "      <td>21</td>\n",
       "      <td>6</td>\n",
       "      <td>36</td>\n",
       "    </tr>\n",
       "    <tr>\n",
       "      <td>death_rate</td>\n",
       "      <td>8.61553</td>\n",
       "      <td>6.64417</td>\n",
       "      <td>0.875972</td>\n",
       "      <td>4.31129</td>\n",
       "      <td>7.35319</td>\n",
       "      <td>2.14479</td>\n",
       "      <td>1.15175</td>\n",
       "      <td>2.18477</td>\n",
       "      <td>1.74378</td>\n",
       "      <td>3.62463</td>\n",
       "    </tr>\n",
       "  </tbody>\n",
       "</table>\n",
       "</div>"
      ],
      "text/plain": [
       "                 2        4         3        8            9            7   \\\n",
       "country       Spain     Iran   Germany  Belgium  Netherlands  Switzerland   \n",
       "new_cases      5085     3186      1494     1063          884          697   \n",
       "new_deaths      537      117        19       82           93           33   \n",
       "death_rate  8.61553  6.64417  0.875972  4.31129      7.35319      2.14479   \n",
       "\n",
       "                 11        13       0        19  \n",
       "country     Austria  Portugal      USA   Sweden  \n",
       "new_cases       589       446      333      328  \n",
       "new_deaths       22        21        6       36  \n",
       "death_rate  1.15175   2.18477  1.74378  3.62463  "
      ]
     },
     "execution_count": 15,
     "metadata": {},
     "output_type": "execute_result"
    },
    {
     "data": {
      "image/png": "[encoded data removed]",
      "text/plain": [
       "<Figure size 864x576 with 1 Axes>"
      ]
     },
     "metadata": {
      "needs_background": "light"
     },
     "output_type": "display_data"
    }
   ],
   "source": [
    "x3 = np.arange(len((df_new_case_in_top10_country['country'])))\n",
    "width = 0.3\n",
    "fig4, ax4 = plt.subplots(figsize=(12,8))\n",
    "ax4.set_facecolor('#b2bec3')\n",
    "rects5 = ax4.bar(x3 - width/2, df_new_case_in_top10_country['new_cases'], width, facecolor = 'Black', label='New Cases')\n",
    "rects6 = ax4.bar(x3 + width/2 ,df_new_case_in_top10_country['new_deaths'], width, facecolor = 'gray', label='New Death')\n",
    "ax4.set_ylabel('Number of People')\n",
    "ax4.set_title('Bar Chart of New Cases, New Death by Country')\n",
    "ax4.set_xticks(x3)\n",
    "ax4.set_xticklabels(df_new_case_in_top10_country['country'], rotation = 45)\n",
    "ax4.legend()\n",
    "def autolabel_for_new_cases(rects):\n",
    "    \"\"\"Attach a text label above each bar in *rects*, displaying its height.\"\"\"\n",
    "    for rect in rects:\n",
    "        height = rect.get_height()\n",
    "        ax4.annotate('{}'.format(height),\n",
    "                    xy=(rect.get_x() + rect.get_width() / 2, 0),\n",
    "                    xytext=(2, 3),\n",
    "                    textcoords=\"offset points\",\n",
    "                    rotation = 90,\n",
    "                    color = '#EAB543',\n",
    "                    ha='center', va='bottom')\n",
    "def autolabel_for_new_death(rects):\n",
    "    \"\"\"Attach a text label above each bar in *rects*, displaying its height.\"\"\"\n",
    "    for rect in rects:\n",
    "        height = rect.get_height()\n",
    "        ax4.annotate('{}'.format(height),\n",
    "                    xy=(rect.get_x() + rect.get_width() / 2, height+10),\n",
    "                    xytext=(0, 3),\n",
    "                    textcoords=\"offset points\",\n",
    "                    rotation = 90,\n",
    "                    color = 'black',\n",
    "                    ha='center', va='bottom')\n",
    "autolabel_for_new_cases(rects5)\n",
    "autolabel_for_new_death(rects6)\n",
    "fig4.tight_layout()\n",
    "df_new_case_in_top10_country[['country','new_cases','new_deaths','death_rate']].transpose()"
   ]
  },
  {
   "cell_type": "markdown",
   "metadata": {},
   "source": [
    "### Saving the Data in a csv file"
   ]
  },
  {
   "cell_type": "code",
   "execution_count": 16,
   "metadata": {},
   "outputs": [],
   "source": [
    "csv_file_name = last_updated_time.lstrip(\"Last updated: \").replace(\" \", \"_\").replace(\",\", \"_\").replace(\":\", \"_\") + \".csv\"\n",
    "df.to_csv(csv_file_name)"
   ]
  },
  {
   "cell_type": "markdown",
   "metadata": {},
   "source": [
    "### Display the data of Your Own Country by entering country name"
   ]
  },
  {
   "cell_type": "code",
   "execution_count": 17,
   "metadata": {},
   "outputs": [
    {
     "data": {
      "text/html": [
       "<div>\n",
       "<style scoped>\n",
       "    .dataframe tbody tr th:only-of-type {\n",
       "        vertical-align: middle;\n",
       "    }\n",
       "\n",
       "    .dataframe tbody tr th {\n",
       "        vertical-align: top;\n",
       "    }\n",
       "\n",
       "    .dataframe thead th {\n",
       "        text-align: right;\n",
       "    }\n",
       "</style>\n",
       "<table border=\"1\" class=\"dataframe\">\n",
       "  <thead>\n",
       "    <tr style=\"text-align: right;\">\n",
       "      <th></th>\n",
       "      <th>39</th>\n",
       "    </tr>\n",
       "  </thead>\n",
       "  <tbody>\n",
       "    <tr>\n",
       "      <td>country</td>\n",
       "      <td>India</td>\n",
       "    </tr>\n",
       "    <tr>\n",
       "      <td>total_cases</td>\n",
       "      <td>1071</td>\n",
       "    </tr>\n",
       "    <tr>\n",
       "      <td>new_cases</td>\n",
       "      <td>47</td>\n",
       "    </tr>\n",
       "    <tr>\n",
       "      <td>total_deaths</td>\n",
       "      <td>29</td>\n",
       "    </tr>\n",
       "    <tr>\n",
       "      <td>new_deaths</td>\n",
       "      <td>2</td>\n",
       "    </tr>\n",
       "    <tr>\n",
       "      <td>total_recovered</td>\n",
       "      <td>100</td>\n",
       "    </tr>\n",
       "    <tr>\n",
       "      <td>active_cases</td>\n",
       "      <td>942</td>\n",
       "    </tr>\n",
       "    <tr>\n",
       "      <td>serious_condition</td>\n",
       "      <td>0</td>\n",
       "    </tr>\n",
       "    <tr>\n",
       "      <td>total_cases_per1mpop</td>\n",
       "      <td>0.8</td>\n",
       "    </tr>\n",
       "    <tr>\n",
       "      <td>total_death_per1mpop</td>\n",
       "      <td>0.02</td>\n",
       "    </tr>\n",
       "    <tr>\n",
       "      <td>1st_case</td>\n",
       "      <td>Jan 29</td>\n",
       "    </tr>\n",
       "    <tr>\n",
       "      <td>death_rate</td>\n",
       "      <td>2.70775</td>\n",
       "    </tr>\n",
       "  </tbody>\n",
       "</table>\n",
       "</div>"
      ],
      "text/plain": [
       "                           39\n",
       "country                 India\n",
       "total_cases              1071\n",
       "new_cases                  47\n",
       "total_deaths               29\n",
       "new_deaths                  2\n",
       "total_recovered           100\n",
       "active_cases              942\n",
       "serious_condition           0\n",
       "total_cases_per1mpop      0.8\n",
       "total_death_per1mpop     0.02\n",
       "1st_case               Jan 29\n",
       "death_rate            2.70775"
      ]
     },
     "execution_count": 17,
     "metadata": {},
     "output_type": "execute_result"
    }
   ],
   "source": [
    "#country_name = input()\n",
    "df[df['country'] == 'India'].transpose()"
   ]
  },
  {
   "cell_type": "markdown",
   "metadata": {},
   "source": [
    "### Use this Notebook as a Adafruit Client for Display "
   ]
  },
  {
   "cell_type": "markdown",
   "metadata": {},
   "source": [
    "#### Install adafruit library"
   ]
  },
  {
   "cell_type": "markdown",
   "metadata": {},
   "source": [
    "#### Importing Adafruit Library"
   ]
  },
  {
   "cell_type": "code",
   "execution_count": 18,
   "metadata": {},
   "outputs": [],
   "source": [
    "from Adafruit_IO import Client\n",
    "aio = Client(\"yobots\", \"83a80786ecc642919bcff59eb15548c2\")"
   ]
  },
  {
   "cell_type": "markdown",
   "metadata": {},
   "source": [
    "### I am sending top 10 country, global and my country Data"
   ]
  },
  {
   "cell_type": "code",
   "execution_count": 19,
   "metadata": {},
   "outputs": [],
   "source": [
    "df_top_10_country = df_top_10_country.append(global_data, ignore_index=True)\n",
    "df_top_10_country=df_top_10_country.append(df[df['country'] == 'India'],ignore_index=True)"
   ]
  },
  {
   "cell_type": "code",
   "execution_count": 20,
   "metadata": {},
   "outputs": [
    {
     "name": "stdout",
     "output_type": "stream",
     "text": [
      "                         Data\n",
      "country                   USA\n",
      "total_cases            142793\n",
      "new_cases                 333\n",
      "total_deaths             2490\n",
      "new_deaths                  6\n",
      "total_recovered          4562\n",
      "active_cases           135741\n",
      "serious_condition        2970\n",
      "total_cases_per1mpop      431\n",
      "total_death_per1mpop        8\n",
      "1st_case               Jan 20\n",
      "death_rate            1.74378\n",
      "1_USA_142793_333_2490_6_4562_135741_1.74\n",
      "                        Data\n",
      "country                Italy\n",
      "total_cases            97689\n",
      "new_cases                  0\n",
      "total_deaths           10779\n",
      "new_deaths                 0\n",
      "total_recovered        13030\n",
      "active_cases           73880\n",
      "serious_condition       3906\n",
      "total_cases_per1mpop    1616\n",
      "total_death_per1mpop     178\n",
      "1st_case              Jan 29\n",
      "death_rate            11.034\n",
      "2_Italy_97689_0_10779_0_13030_73880_11.03\n",
      "                         Data\n",
      "country                 Spain\n",
      "total_cases             85195\n",
      "new_cases                5085\n",
      "total_deaths             7340\n",
      "new_deaths                537\n",
      "total_recovered         16780\n",
      "active_cases            61075\n",
      "serious_condition        5231\n",
      "total_cases_per1mpop     1822\n",
      "total_death_per1mpop      157\n",
      "1st_case               Jan 30\n",
      "death_rate            8.61553\n",
      "3_Spain_85195_5085_7340_537_16780_61075_8.62\n",
      "                         Data\n",
      "country                 China\n",
      "total_cases             81470\n",
      "new_cases                  31\n",
      "total_deaths             3304\n",
      "new_deaths                  4\n",
      "total_recovered         75700\n",
      "active_cases             2466\n",
      "serious_condition         633\n",
      "total_cases_per1mpop       57\n",
      "total_death_per1mpop        2\n",
      "1st_case               Jan 10\n",
      "death_rate            4.05548\n",
      "4_China_81470_31_3304_4_75700_2466_4.06\n",
      "                          Data\n",
      "country                Germany\n",
      "total_cases              63929\n",
      "new_cases                 1494\n",
      "total_deaths               560\n",
      "new_deaths                  19\n",
      "total_recovered           9211\n",
      "active_cases             54158\n",
      "serious_condition         1979\n",
      "total_cases_per1mpop       763\n",
      "total_death_per1mpop         7\n",
      "1st_case                Jan 26\n",
      "death_rate            0.875972\n",
      "5_Germany_63929_1494_560_19_9211_54158_0.88\n",
      "                         Data\n",
      "country                  Iran\n",
      "total_cases             41495\n",
      "new_cases                3186\n",
      "total_deaths             2757\n",
      "new_deaths                117\n",
      "total_recovered         13911\n",
      "active_cases            24827\n",
      "serious_condition        3511\n",
      "total_cases_per1mpop      494\n",
      "total_death_per1mpop       33\n",
      "1st_case               Feb 18\n",
      "death_rate            6.64417\n",
      "6_Iran_41495_3186_2757_117_13911_24827_6.64\n",
      "                         Data\n",
      "country                France\n",
      "total_cases             40174\n",
      "new_cases                   0\n",
      "total_deaths             2606\n",
      "new_deaths                  0\n",
      "total_recovered          7202\n",
      "active_cases            30366\n",
      "serious_condition        4632\n",
      "total_cases_per1mpop      615\n",
      "total_death_per1mpop       40\n",
      "1st_case               Jan 23\n",
      "death_rate            6.48678\n",
      "7_France_40174_0_2606_0_7202_30366_6.49\n",
      "                         Data\n",
      "country                    UK\n",
      "total_cases             19522\n",
      "new_cases                   0\n",
      "total_deaths             1228\n",
      "new_deaths                  0\n",
      "total_recovered           135\n",
      "active_cases            18159\n",
      "serious_condition         163\n",
      "total_cases_per1mpop      288\n",
      "total_death_per1mpop       18\n",
      "1st_case               Jan 30\n",
      "death_rate            6.29034\n",
      "8_UK_19522_0_1228_0_135_18159_6.29\n",
      "                             Data\n",
      "country               Switzerland\n",
      "total_cases                 15526\n",
      "new_cases                     697\n",
      "total_deaths                  333\n",
      "new_deaths                     33\n",
      "total_recovered              1823\n",
      "active_cases                13370\n",
      "serious_condition             301\n",
      "total_cases_per1mpop         1794\n",
      "total_death_per1mpop           38\n",
      "1st_case                   Feb 24\n",
      "death_rate                2.14479\n",
      "9_Switzerland_15526_697_333_33_1823_13370_2.14\n",
      "                         Data\n",
      "country               Belgium\n",
      "total_cases             11899\n",
      "new_cases                1063\n",
      "total_deaths              513\n",
      "new_deaths                 82\n",
      "total_recovered          1527\n",
      "active_cases             9859\n",
      "serious_condition         927\n",
      "total_cases_per1mpop     1027\n",
      "total_death_per1mpop       44\n",
      "1st_case               Feb 03\n",
      "death_rate            4.31129\n",
      "10_Belgium_11899_1063_513_82_1527_9859_4.31\n",
      "                         Data\n",
      "country                Global\n",
      "total_cases            740239\n",
      "new_cases               17880\n",
      "total_deaths            35035\n",
      "new_deaths               1069\n",
      "total_recovered        156588\n",
      "active_cases           548616\n",
      "serious_condition       28471\n",
      "total_cases_per1mpop  61337.3\n",
      "total_death_per1mpop  1693.98\n",
      "1st_case                 None\n",
      "death_rate            4.73293\n",
      "11_Global_740239_17880_35035_1069_156588_548616_4.73\n",
      "                         Data\n",
      "country                 India\n",
      "total_cases              1071\n",
      "new_cases                  47\n",
      "total_deaths               29\n",
      "new_deaths                  2\n",
      "total_recovered           100\n",
      "active_cases              942\n",
      "serious_condition           0\n",
      "total_cases_per1mpop      0.8\n",
      "total_death_per1mpop     0.02\n",
      "1st_case               Jan 29\n",
      "death_rate            2.70775\n",
      "12_India_1071_47_29_2_100_942_2.71\n"
     ]
    }
   ],
   "source": [
    "from time import sleep\n",
    "for country in df_top_10_country['country']:\n",
    "    country_pos = pd.Index(list(df_top_10_country.country))\n",
    "    df_transpose = df_top_10_country[df_top_10_country[\"country\"]==country].transpose()\n",
    "    df_transpose.columns = ['Data']\n",
    "    data_for_send = str(country_pos.get_loc(country)+1)+\"_\"+str(df_transpose['Data'][0])+\"_\"+str(df_transpose['Data'][1])+\"_\"+str(df_transpose['Data'][2])+\"_\"+str(df_transpose['Data'][3])+\"_\"+str(df_transpose['Data'][4])+\"_\"+str(df_transpose['Data'][5])+\"_\"+str(df_transpose['Data'][6])+\"_\"+str('{0:.2f}'.format(df_transpose['Data'][11]))\n",
    "    aio.send('covid-19', data_for_send)\n",
    "    aio.send('last-updated-time', last_updated_time)\n",
    "    sleep(1)\n",
    "    print(df_transpose)\n",
    "    print(data_for_send)"
   ]
  },
  {
   "cell_type": "markdown",
   "metadata": {},
   "source": []
  },
  {
   "cell_type": "code",
   "execution_count": null,
   "metadata": {},
   "outputs": [],
   "source": []
  }
 ],
 "metadata": {
  "kernelspec": {
   "display_name": "Python 3",
   "language": "python",
   "name": "python3"
  },
  "language_info": {
   "codemirror_mode": {
    "name": "ipython",
    "version": 3
   },
   "file_extension": ".py",
   "mimetype": "text/x-python",
   "name": "python",
   "nbconvert_exporter": "python",
   "pygments_lexer": "ipython3",
   "version": "3.7.4"
  }
 },
 "nbformat": 4,
 "nbformat_minor": 2
}
